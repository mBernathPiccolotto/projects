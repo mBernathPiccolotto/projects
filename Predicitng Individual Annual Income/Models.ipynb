{
 "cells": [
  {
   "cell_type": "markdown",
   "metadata": {},
   "source": [
    "# L6 Intro and KNN"
   ]
  },
  {
   "cell_type": "markdown",
   "metadata": {},
   "source": [
    "## 1. Randomly seperating training and test data"
   ]
  },
  {
   "cell_type": "code",
   "execution_count": 3,
   "metadata": {
    "scrolled": true
   },
   "outputs": [
    {
     "data": {
      "text/html": [
       "<div>\n",
       "<style scoped>\n",
       "    .dataframe tbody tr th:only-of-type {\n",
       "        vertical-align: middle;\n",
       "    }\n",
       "\n",
       "    .dataframe tbody tr th {\n",
       "        vertical-align: top;\n",
       "    }\n",
       "\n",
       "    .dataframe thead th {\n",
       "        text-align: right;\n",
       "    }\n",
       "</style>\n",
       "<table border=\"1\" class=\"dataframe\">\n",
       "  <thead>\n",
       "    <tr style=\"text-align: right;\">\n",
       "      <th></th>\n",
       "      <th>Adult</th>\n",
       "      <th>Private</th>\n",
       "      <th>HS-grad</th>\n",
       "      <th>Married-civ-spouse</th>\n",
       "      <th>Transport-moving</th>\n",
       "      <th>Husband</th>\n",
       "      <th>White</th>\n",
       "      <th>Male</th>\n",
       "      <th>United-States</th>\n",
       "      <th>&lt;=50K</th>\n",
       "    </tr>\n",
       "  </thead>\n",
       "  <tbody>\n",
       "    <tr>\n",
       "      <th>0</th>\n",
       "      <td>Adult</td>\n",
       "      <td>Private</td>\n",
       "      <td>HS-grad</td>\n",
       "      <td>Married-civ-spouse</td>\n",
       "      <td>Other-service</td>\n",
       "      <td>Husband</td>\n",
       "      <td>Black</td>\n",
       "      <td>Male</td>\n",
       "      <td>United-States</td>\n",
       "      <td>&lt;=50K</td>\n",
       "    </tr>\n",
       "    <tr>\n",
       "      <th>1</th>\n",
       "      <td>College Age</td>\n",
       "      <td>Private</td>\n",
       "      <td>Some High School</td>\n",
       "      <td>Never-married</td>\n",
       "      <td>Other-service</td>\n",
       "      <td>Own-child</td>\n",
       "      <td>White</td>\n",
       "      <td>Female</td>\n",
       "      <td>United-States</td>\n",
       "      <td>&lt;=50K</td>\n",
       "    </tr>\n",
       "    <tr>\n",
       "      <th>2</th>\n",
       "      <td>Adult</td>\n",
       "      <td>Federal-gov</td>\n",
       "      <td>Bachelors</td>\n",
       "      <td>Never-married</td>\n",
       "      <td>Prof-specialty</td>\n",
       "      <td>Own-child</td>\n",
       "      <td>White</td>\n",
       "      <td>Female</td>\n",
       "      <td>United-States</td>\n",
       "      <td>&lt;=50K</td>\n",
       "    </tr>\n",
       "    <tr>\n",
       "      <th>3</th>\n",
       "      <td>Adult</td>\n",
       "      <td>Private</td>\n",
       "      <td>Some-college</td>\n",
       "      <td>Married-civ-spouse</td>\n",
       "      <td>Machine-op-inspct</td>\n",
       "      <td>Husband</td>\n",
       "      <td>White</td>\n",
       "      <td>Male</td>\n",
       "      <td>United-States</td>\n",
       "      <td>&lt;=50K</td>\n",
       "    </tr>\n",
       "    <tr>\n",
       "      <th>4</th>\n",
       "      <td>Adult</td>\n",
       "      <td>Private</td>\n",
       "      <td>Some-college</td>\n",
       "      <td>Divorced</td>\n",
       "      <td>Craft-repair</td>\n",
       "      <td>Not-in-family</td>\n",
       "      <td>White</td>\n",
       "      <td>Male</td>\n",
       "      <td>United-States</td>\n",
       "      <td>&lt;=50K</td>\n",
       "    </tr>\n",
       "    <tr>\n",
       "      <th>...</th>\n",
       "      <td>...</td>\n",
       "      <td>...</td>\n",
       "      <td>...</td>\n",
       "      <td>...</td>\n",
       "      <td>...</td>\n",
       "      <td>...</td>\n",
       "      <td>...</td>\n",
       "      <td>...</td>\n",
       "      <td>...</td>\n",
       "      <td>...</td>\n",
       "    </tr>\n",
       "    <tr>\n",
       "      <th>30156</th>\n",
       "      <td>College Age</td>\n",
       "      <td>State-gov</td>\n",
       "      <td>Some-college</td>\n",
       "      <td>Never-married</td>\n",
       "      <td>Adm-clerical</td>\n",
       "      <td>Own-child</td>\n",
       "      <td>White</td>\n",
       "      <td>Female</td>\n",
       "      <td>United-States</td>\n",
       "      <td>&lt;=50K</td>\n",
       "    </tr>\n",
       "    <tr>\n",
       "      <th>30157</th>\n",
       "      <td>Young Adult</td>\n",
       "      <td>Private</td>\n",
       "      <td>HS-grad</td>\n",
       "      <td>Never-married</td>\n",
       "      <td>Other-service</td>\n",
       "      <td>Not-in-family</td>\n",
       "      <td>White</td>\n",
       "      <td>Female</td>\n",
       "      <td>United-States</td>\n",
       "      <td>&lt;=50K</td>\n",
       "    </tr>\n",
       "    <tr>\n",
       "      <th>30158</th>\n",
       "      <td>Adult</td>\n",
       "      <td>Private</td>\n",
       "      <td>Some-college</td>\n",
       "      <td>Separated</td>\n",
       "      <td>Transport-moving</td>\n",
       "      <td>Not-in-family</td>\n",
       "      <td>White</td>\n",
       "      <td>Male</td>\n",
       "      <td>United-States</td>\n",
       "      <td>&lt;=50K</td>\n",
       "    </tr>\n",
       "    <tr>\n",
       "      <th>30159</th>\n",
       "      <td>Adult</td>\n",
       "      <td>Local-gov</td>\n",
       "      <td>Bachelors</td>\n",
       "      <td>Never-married</td>\n",
       "      <td>Prof-specialty</td>\n",
       "      <td>Not-in-family</td>\n",
       "      <td>White</td>\n",
       "      <td>Female</td>\n",
       "      <td>United-States</td>\n",
       "      <td>&lt;=50K</td>\n",
       "    </tr>\n",
       "    <tr>\n",
       "      <th>30160</th>\n",
       "      <td>Senior</td>\n",
       "      <td>Private</td>\n",
       "      <td>Some-college</td>\n",
       "      <td>Married-civ-spouse</td>\n",
       "      <td>Other-service</td>\n",
       "      <td>Husband</td>\n",
       "      <td>White</td>\n",
       "      <td>Male</td>\n",
       "      <td>United-States</td>\n",
       "      <td>&lt;=50K</td>\n",
       "    </tr>\n",
       "  </tbody>\n",
       "</table>\n",
       "<p>27118 rows × 10 columns</p>\n",
       "</div>"
      ],
      "text/plain": [
       "             Adult       Private           HS-grad   Married-civ-spouse  \\\n",
       "0            Adult       Private           HS-grad   Married-civ-spouse   \n",
       "1      College Age       Private  Some High School        Never-married   \n",
       "2            Adult   Federal-gov         Bachelors        Never-married   \n",
       "3            Adult       Private      Some-college   Married-civ-spouse   \n",
       "4            Adult       Private      Some-college             Divorced   \n",
       "...            ...           ...               ...                  ...   \n",
       "30156  College Age     State-gov      Some-college        Never-married   \n",
       "30157  Young Adult       Private           HS-grad        Never-married   \n",
       "30158        Adult       Private      Some-college            Separated   \n",
       "30159        Adult     Local-gov         Bachelors        Never-married   \n",
       "30160       Senior       Private      Some-college   Married-civ-spouse   \n",
       "\n",
       "         Transport-moving         Husband   White     Male   United-States  \\\n",
       "0           Other-service         Husband   Black     Male   United-States   \n",
       "1           Other-service       Own-child   White   Female   United-States   \n",
       "2          Prof-specialty       Own-child   White   Female   United-States   \n",
       "3       Machine-op-inspct         Husband   White     Male   United-States   \n",
       "4            Craft-repair   Not-in-family   White     Male   United-States   \n",
       "...                   ...             ...     ...      ...             ...   \n",
       "30156        Adm-clerical       Own-child   White   Female   United-States   \n",
       "30157       Other-service   Not-in-family   White   Female   United-States   \n",
       "30158    Transport-moving   Not-in-family   White     Male   United-States   \n",
       "30159      Prof-specialty   Not-in-family   White   Female   United-States   \n",
       "30160       Other-service         Husband   White     Male   United-States   \n",
       "\n",
       "       <=50K  \n",
       "0      <=50K  \n",
       "1      <=50K  \n",
       "2      <=50K  \n",
       "3      <=50K  \n",
       "4      <=50K  \n",
       "...      ...  \n",
       "30156  <=50K  \n",
       "30157  <=50K  \n",
       "30158  <=50K  \n",
       "30159  <=50K  \n",
       "30160  <=50K  \n",
       "\n",
       "[27118 rows x 10 columns]"
      ]
     },
     "execution_count": 3,
     "metadata": {},
     "output_type": "execute_result"
    }
   ],
   "source": [
    "import pandas as pd\n",
    "import numpy as np\n",
    "df = pd.read_csv('person.csv')\n",
    "df['split'] = np.random.randn(df.shape[0], 1)\n",
    "\n",
    "msk = np.random.rand(len(df)) <= 0.9\n",
    "\n",
    "dfTrain = df[msk].drop(columns=['Unnamed: 10', 'split'])\n",
    "dfTest = df[~msk].drop(columns=['Unnamed: 10', 'split'])\n",
    "\n",
    "dfTrain"
   ]
  },
  {
   "cell_type": "markdown",
   "metadata": {},
   "source": [
    "### Test Data"
   ]
  },
  {
   "cell_type": "code",
   "execution_count": 2,
   "metadata": {},
   "outputs": [
    {
     "data": {
      "text/html": [
       "<div>\n",
       "<style scoped>\n",
       "    .dataframe tbody tr th:only-of-type {\n",
       "        vertical-align: middle;\n",
       "    }\n",
       "\n",
       "    .dataframe tbody tr th {\n",
       "        vertical-align: top;\n",
       "    }\n",
       "\n",
       "    .dataframe thead th {\n",
       "        text-align: right;\n",
       "    }\n",
       "</style>\n",
       "<table border=\"1\" class=\"dataframe\">\n",
       "  <thead>\n",
       "    <tr style=\"text-align: right;\">\n",
       "      <th></th>\n",
       "      <th>Adult</th>\n",
       "      <th>Private</th>\n",
       "      <th>HS-grad</th>\n",
       "      <th>Married-civ-spouse</th>\n",
       "      <th>Transport-moving</th>\n",
       "      <th>Husband</th>\n",
       "      <th>White</th>\n",
       "      <th>Male</th>\n",
       "      <th>United-States</th>\n",
       "      <th>&lt;=50K</th>\n",
       "    </tr>\n",
       "  </thead>\n",
       "  <tbody>\n",
       "    <tr>\n",
       "      <th>22</th>\n",
       "      <td>College Age</td>\n",
       "      <td>Private</td>\n",
       "      <td>HS-grad</td>\n",
       "      <td>Never-married</td>\n",
       "      <td>Adm-clerical</td>\n",
       "      <td>Unmarried</td>\n",
       "      <td>White</td>\n",
       "      <td>Female</td>\n",
       "      <td>United-States</td>\n",
       "      <td>&lt;=50K</td>\n",
       "    </tr>\n",
       "    <tr>\n",
       "      <th>54</th>\n",
       "      <td>Adult</td>\n",
       "      <td>Private</td>\n",
       "      <td>Some-college</td>\n",
       "      <td>Married-civ-spouse</td>\n",
       "      <td>Craft-repair</td>\n",
       "      <td>Husband</td>\n",
       "      <td>White</td>\n",
       "      <td>Male</td>\n",
       "      <td>United-States</td>\n",
       "      <td>&gt;50K</td>\n",
       "    </tr>\n",
       "    <tr>\n",
       "      <th>58</th>\n",
       "      <td>Adult</td>\n",
       "      <td>Self-emp-inc</td>\n",
       "      <td>HS-grad</td>\n",
       "      <td>Married-civ-spouse</td>\n",
       "      <td>Farming-fishing</td>\n",
       "      <td>Husband</td>\n",
       "      <td>White</td>\n",
       "      <td>Male</td>\n",
       "      <td>United-States</td>\n",
       "      <td>&lt;=50K</td>\n",
       "    </tr>\n",
       "    <tr>\n",
       "      <th>110</th>\n",
       "      <td>Adult</td>\n",
       "      <td>Local-gov</td>\n",
       "      <td>Some-college</td>\n",
       "      <td>Married-civ-spouse</td>\n",
       "      <td>Tech-support</td>\n",
       "      <td>Husband</td>\n",
       "      <td>White</td>\n",
       "      <td>Male</td>\n",
       "      <td>United-States</td>\n",
       "      <td>&gt;50K</td>\n",
       "    </tr>\n",
       "    <tr>\n",
       "      <th>116</th>\n",
       "      <td>Adult</td>\n",
       "      <td>Private</td>\n",
       "      <td>HS-grad</td>\n",
       "      <td>Married-civ-spouse</td>\n",
       "      <td>Sales</td>\n",
       "      <td>Husband</td>\n",
       "      <td>White</td>\n",
       "      <td>Male</td>\n",
       "      <td>United-States</td>\n",
       "      <td>&gt;50K</td>\n",
       "    </tr>\n",
       "    <tr>\n",
       "      <th>...</th>\n",
       "      <td>...</td>\n",
       "      <td>...</td>\n",
       "      <td>...</td>\n",
       "      <td>...</td>\n",
       "      <td>...</td>\n",
       "      <td>...</td>\n",
       "      <td>...</td>\n",
       "      <td>...</td>\n",
       "      <td>...</td>\n",
       "      <td>...</td>\n",
       "    </tr>\n",
       "    <tr>\n",
       "      <th>30107</th>\n",
       "      <td>Adult</td>\n",
       "      <td>Self-emp-not-inc</td>\n",
       "      <td>Assoc-voc</td>\n",
       "      <td>Married-civ-spouse</td>\n",
       "      <td>Farming-fishing</td>\n",
       "      <td>Husband</td>\n",
       "      <td>White</td>\n",
       "      <td>Male</td>\n",
       "      <td>United-States</td>\n",
       "      <td>&lt;=50K</td>\n",
       "    </tr>\n",
       "    <tr>\n",
       "      <th>30108</th>\n",
       "      <td>Young Adult</td>\n",
       "      <td>Private</td>\n",
       "      <td>HS-grad</td>\n",
       "      <td>Never-married</td>\n",
       "      <td>Other-service</td>\n",
       "      <td>Own-child</td>\n",
       "      <td>White</td>\n",
       "      <td>Female</td>\n",
       "      <td>United-States</td>\n",
       "      <td>&lt;=50K</td>\n",
       "    </tr>\n",
       "    <tr>\n",
       "      <th>30127</th>\n",
       "      <td>Young Adult</td>\n",
       "      <td>Private</td>\n",
       "      <td>HS-grad</td>\n",
       "      <td>Never-married</td>\n",
       "      <td>Other-service</td>\n",
       "      <td>Not-in-family</td>\n",
       "      <td>White</td>\n",
       "      <td>Male</td>\n",
       "      <td>United-States</td>\n",
       "      <td>&lt;=50K</td>\n",
       "    </tr>\n",
       "    <tr>\n",
       "      <th>30132</th>\n",
       "      <td>Adult</td>\n",
       "      <td>Private</td>\n",
       "      <td>HS-grad</td>\n",
       "      <td>Never-married</td>\n",
       "      <td>Craft-repair</td>\n",
       "      <td>Not-in-family</td>\n",
       "      <td>White</td>\n",
       "      <td>Female</td>\n",
       "      <td>United-States</td>\n",
       "      <td>&lt;=50K</td>\n",
       "    </tr>\n",
       "    <tr>\n",
       "      <th>30136</th>\n",
       "      <td>College Age</td>\n",
       "      <td>Private</td>\n",
       "      <td>Some High School</td>\n",
       "      <td>Never-married</td>\n",
       "      <td>Adm-clerical</td>\n",
       "      <td>Not-in-family</td>\n",
       "      <td>White</td>\n",
       "      <td>Male</td>\n",
       "      <td>United-States</td>\n",
       "      <td>&lt;=50K</td>\n",
       "    </tr>\n",
       "  </tbody>\n",
       "</table>\n",
       "<p>2983 rows × 10 columns</p>\n",
       "</div>"
      ],
      "text/plain": [
       "             Adult            Private           HS-grad   Married-civ-spouse  \\\n",
       "22     College Age            Private           HS-grad        Never-married   \n",
       "54           Adult            Private      Some-college   Married-civ-spouse   \n",
       "58           Adult       Self-emp-inc           HS-grad   Married-civ-spouse   \n",
       "110          Adult          Local-gov      Some-college   Married-civ-spouse   \n",
       "116          Adult            Private           HS-grad   Married-civ-spouse   \n",
       "...            ...                ...               ...                  ...   \n",
       "30107        Adult   Self-emp-not-inc         Assoc-voc   Married-civ-spouse   \n",
       "30108  Young Adult            Private           HS-grad        Never-married   \n",
       "30127  Young Adult            Private           HS-grad        Never-married   \n",
       "30132        Adult            Private           HS-grad        Never-married   \n",
       "30136  College Age            Private  Some High School        Never-married   \n",
       "\n",
       "       Transport-moving         Husband   White     Male   United-States  \\\n",
       "22         Adm-clerical       Unmarried   White   Female   United-States   \n",
       "54         Craft-repair         Husband   White     Male   United-States   \n",
       "58      Farming-fishing         Husband   White     Male   United-States   \n",
       "110        Tech-support         Husband   White     Male   United-States   \n",
       "116               Sales         Husband   White     Male   United-States   \n",
       "...                 ...             ...     ...      ...             ...   \n",
       "30107   Farming-fishing         Husband   White     Male   United-States   \n",
       "30108     Other-service       Own-child   White   Female   United-States   \n",
       "30127     Other-service   Not-in-family   White     Male   United-States   \n",
       "30132      Craft-repair   Not-in-family   White   Female   United-States   \n",
       "30136      Adm-clerical   Not-in-family   White     Male   United-States   \n",
       "\n",
       "       <=50K  \n",
       "22     <=50K  \n",
       "54      >50K  \n",
       "58     <=50K  \n",
       "110     >50K  \n",
       "116     >50K  \n",
       "...      ...  \n",
       "30107  <=50K  \n",
       "30108  <=50K  \n",
       "30127  <=50K  \n",
       "30132  <=50K  \n",
       "30136  <=50K  \n",
       "\n",
       "[2983 rows x 10 columns]"
      ]
     },
     "execution_count": 2,
     "metadata": {},
     "output_type": "execute_result"
    }
   ],
   "source": [
    "dfTest"
   ]
  },
  {
   "cell_type": "markdown",
   "metadata": {},
   "source": [
    "## 2. K Nearest Neighbors"
   ]
  },
  {
   "cell_type": "markdown",
   "metadata": {},
   "source": [
    "### OneHotEncode Data"
   ]
  },
  {
   "cell_type": "code",
   "execution_count": 4,
   "metadata": {},
   "outputs": [
    {
     "data": {
      "text/plain": [
       "array([[0., 1., 0., ..., 1., 0., 0.],\n",
       "       [0., 0., 0., ..., 0., 0., 0.],\n",
       "       [0., 1., 0., ..., 0., 0., 0.],\n",
       "       ...,\n",
       "       [0., 0., 0., ..., 1., 0., 0.],\n",
       "       [0., 0., 0., ..., 1., 0., 0.],\n",
       "       [1., 0., 0., ..., 1., 0., 0.]])"
      ]
     },
     "execution_count": 4,
     "metadata": {},
     "output_type": "execute_result"
    }
   ],
   "source": [
    "from sklearn.preprocessing import OneHotEncoder\n",
    "\n",
    "ohe = OneHotEncoder()\n",
    "\n",
    "encoded = ohe.fit(dfTrain)\n",
    "encodedTrain = encoded.transform(dfTrain).toarray()\n",
    "encodedTest = encoded.transform(dfTest).toarray()\n",
    "\n",
    "X_train = encodedTrain[:, 0:98]\n",
    "X_test = encodedTest[:,0:98]\n",
    "X_test"
   ]
  },
  {
   "cell_type": "code",
   "execution_count": 5,
   "metadata": {},
   "outputs": [
    {
     "data": {
      "text/plain": [
       "array([0., 0., 0., ..., 0., 0., 1.])"
      ]
     },
     "execution_count": 5,
     "metadata": {},
     "output_type": "execute_result"
    }
   ],
   "source": [
    "y_train = encodedTrain[:, 99]\n",
    "y_test = encodedTest[:,99]\n",
    "\n",
    "y_test"
   ]
  },
  {
   "cell_type": "markdown",
   "metadata": {},
   "source": [
    "### Training KNN Classifiers"
   ]
  },
  {
   "cell_type": "code",
   "execution_count": 6,
   "metadata": {},
   "outputs": [
    {
     "name": "stdout",
     "output_type": "stream",
     "text": [
      "Predicted: [0. 0. 0. ... 0. 0. 0.]\n",
      "Accuracy: 0.8084127505750903\n",
      "Precision: 0.6158940397350994\n",
      "Recall: 0.5145228215767634\n",
      "F1 score: 0.5606631499623209\n",
      "\n"
     ]
    },
    {
     "data": {
      "text/plain": [
       "array([[2088,  232],\n",
       "       [ 351,  372]])"
      ]
     },
     "execution_count": 6,
     "metadata": {},
     "output_type": "execute_result"
    }
   ],
   "source": [
    "from sklearn.neighbors import KNeighborsClassifier\n",
    "from sklearn import metrics\n",
    "from sklearn.metrics import confusion_matrix\n",
    "\n",
    "from sklearn.metrics import precision_score, recall_score, f1_score\n",
    "\n",
    "\n",
    "clf = KNeighborsClassifier(n_neighbors=3) # n_neighbors=5\n",
    "clf.fit(X_train, y_train)\n",
    "y_pred = clf.predict(X_test)\n",
    "print(\"Predicted:\", y_pred)\n",
    "print(\"Accuracy:\", metrics.accuracy_score(y_test, y_pred))\n",
    "print(\"Precision:\", precision_score(y_test, y_pred))\n",
    "print(\"Recall:\", recall_score(y_test, y_pred))\n",
    "print(\"F1 score:\", f1_score(y_test, y_pred))\n",
    "print()\n",
    "y_pred_knn_3 = y_pred\n",
    "confusion_matrix(y_test, y_pred_knn_3)"
   ]
  },
  {
   "cell_type": "code",
   "execution_count": 6,
   "metadata": {},
   "outputs": [
    {
     "name": "stdout",
     "output_type": "stream",
     "text": [
      "Predicted: [0. 1. 0. ... 0. 0. 0.]\n",
      "Accuracy: 0.8166275561515253\n",
      "Precision: 0.6576433121019108\n",
      "Recall: 0.5543624161073826\n",
      "F1 score: 0.6016023306627822\n",
      "\n",
      "Predicted: [0. 1. 0. ... 0. 0. 0.]\n",
      "Accuracy: 0.8196446530338586\n",
      "Precision: 0.7033398821218074\n",
      "Recall: 0.48053691275167787\n",
      "F1 score: 0.5709728867623604\n",
      "\n",
      "Predicted: [0. 1. 0. ... 0. 0. 0.]\n",
      "Accuracy: 0.8337244384847469\n",
      "Precision: 0.7120954003407155\n",
      "Recall: 0.5610738255033557\n",
      "F1 score: 0.6276276276276276\n",
      "\n"
     ]
    },
    {
     "data": {
      "text/plain": [
       "array([[2069,  169],\n",
       "       [ 327,  418]])"
      ]
     },
     "execution_count": 6,
     "metadata": {},
     "output_type": "execute_result"
    }
   ],
   "source": [
    "clf = KNeighborsClassifier(n_neighbors=5) # n_neighbors=3\n",
    "clf.fit(X_train, y_train)\n",
    "y_pred = clf.predict(X_test)\n",
    "print(\"Predicted:\", y_pred)\n",
    "print(\"Accuracy:\", metrics.accuracy_score(y_test, y_pred))\n",
    "print(\"Precision:\", precision_score(y_test, y_pred))\n",
    "print(\"Recall:\", recall_score(y_test, y_pred))\n",
    "print(\"F1 score:\", f1_score(y_test, y_pred))\n",
    "print()\n",
    "y_pred_knn_5 = y_pred\n",
    "confusion_matrix(y_test, y_pred_knn_5)\n",
    "\n",
    "\n",
    "clf = KNeighborsClassifier(n_neighbors=10) # n_neighbors=10\n",
    "clf.fit(X_train, y_train)\n",
    "y_pred = clf.predict(X_test)\n",
    "print(\"Predicted:\", y_pred)\n",
    "print(\"Accuracy:\", metrics.accuracy_score(y_test, y_pred))\n",
    "print(\"Precision:\", precision_score(y_test, y_pred))\n",
    "print(\"Recall:\", recall_score(y_test, y_pred))\n",
    "print(\"F1 score:\", f1_score(y_test, y_pred))\n",
    "print()\n",
    "y_pred_knn_10 = y_pred\n",
    "confusion_matrix(y_test, y_pred_knn_10)\n",
    "\n",
    "\n",
    "clf = KNeighborsClassifier(n_neighbors=20) # n_neighbors=20\n",
    "clf.fit(X_train, y_train)\n",
    "y_pred = clf.predict(X_test)\n",
    "print(\"Predicted:\", y_pred)\n",
    "print(\"Accuracy:\", metrics.accuracy_score(y_test, y_pred))\n",
    "print(\"Precision:\", precision_score(y_test, y_pred))\n",
    "print(\"Recall:\", recall_score(y_test, y_pred))\n",
    "print(\"F1 score:\", f1_score(y_test, y_pred))\n",
    "print()\n",
    "\n",
    "y_pred_knn_20 = y_pred\n",
    "\n",
    "confusion_matrix(y_test, y_pred_knn_20)"
   ]
  },
  {
   "cell_type": "markdown",
   "metadata": {},
   "source": [
    "# L7 Decision Trees"
   ]
  },
  {
   "cell_type": "markdown",
   "metadata": {},
   "source": [
    "Scikit-learn implementation does not support categorical variables for now."
   ]
  },
  {
   "cell_type": "markdown",
   "metadata": {},
   "source": [
    "## 1. ID3: based on Information Gain"
   ]
  },
  {
   "cell_type": "code",
   "execution_count": 7,
   "metadata": {},
   "outputs": [
    {
     "data": {
      "text/plain": [
       "DecisionTreeClassifier(criterion='entropy')"
      ]
     },
     "execution_count": 7,
     "metadata": {},
     "output_type": "execute_result"
    }
   ],
   "source": [
    "from sklearn import tree\n",
    "import graphviz\n",
    "\n",
    "# \"entropy\" for the information gain\n",
    "clf = tree.DecisionTreeClassifier(criterion=\"entropy\")\n",
    "clf.fit(X_train, y_train)"
   ]
  },
  {
   "cell_type": "code",
   "execution_count": 8,
   "metadata": {},
   "outputs": [
    {
     "name": "stdout",
     "output_type": "stream",
     "text": [
      "Predicted: [0. 1. 0. ... 0. 0. 0.]\n",
      "Accuracy: 0.8246731478377473\n",
      "Precision: 0.6646884272997032\n",
      "Recall: 0.6013422818791946\n",
      "F1 score: 0.631430584918957\n"
     ]
    }
   ],
   "source": [
    "y_pred = clf.predict(X_test)\n",
    "print(\"Predicted:\", y_pred)\n",
    "print(\"Accuracy:\", metrics.accuracy_score(y_test, y_pred))\n",
    "print(\"Precision:\", precision_score(y_test, y_pred))\n",
    "print(\"Recall:\", recall_score(y_test, y_pred))\n",
    "print(\"F1 score:\", f1_score(y_test, y_pred))\n",
    "y_pred_id3 = y_pred"
   ]
  },
  {
   "cell_type": "markdown",
   "metadata": {},
   "source": [
    "## 2. CART: based on Gini (as default)"
   ]
  },
  {
   "cell_type": "code",
   "execution_count": 9,
   "metadata": {},
   "outputs": [
    {
     "data": {
      "text/plain": [
       "DecisionTreeClassifier()"
      ]
     },
     "execution_count": 9,
     "metadata": {},
     "output_type": "execute_result"
    }
   ],
   "source": [
    "clf = tree.DecisionTreeClassifier()\n",
    "clf.fit(X_train, y_train)"
   ]
  },
  {
   "cell_type": "code",
   "execution_count": 10,
   "metadata": {},
   "outputs": [
    {
     "name": "stdout",
     "output_type": "stream",
     "text": [
      "Predicted: [0. 1. 0. ... 0. 0. 0.]\n",
      "Accuracy: 0.8226617499161918\n",
      "Precision: 0.6641337386018237\n",
      "Recall: 0.5865771812080537\n",
      "F1 score: 0.6229508196721312\n"
     ]
    }
   ],
   "source": [
    "y_pred = clf.predict(X_test)\n",
    "print(\"Predicted:\", y_pred)\n",
    "print(\"Accuracy:\", metrics.accuracy_score(y_test, y_pred))\n",
    "print(\"Precision:\", precision_score(y_test, y_pred))\n",
    "print(\"Recall:\", recall_score(y_test, y_pred))\n",
    "print(\"F1 score:\", f1_score(y_test, y_pred))\n",
    "\n",
    "y_pred_cart = y_pred"
   ]
  },
  {
   "cell_type": "markdown",
   "metadata": {},
   "source": [
    "# L8 Naive Bayes"
   ]
  },
  {
   "cell_type": "code",
   "execution_count": 13,
   "metadata": {},
   "outputs": [
    {
     "name": "stdout",
     "output_type": "stream",
     "text": [
      "Predicted: [0. 1. 1. ... 0. 0. 0.]\n",
      "Accuracy: 0.7603084143479718\n",
      "Precision: 0.5130434782608696\n",
      "Recall: 0.7919463087248322\n",
      "F1 score: 0.6226912928759895\n"
     ]
    }
   ],
   "source": [
    "from sklearn.naive_bayes import CategoricalNB\n",
    "\n",
    "clf = CategoricalNB()\n",
    "clf.fit(X_train, y_train)\n",
    "y_pred = clf.predict(X_test)\n",
    "print(\"Predicted:\", y_pred)\n",
    "print(\"Accuracy:\", metrics.accuracy_score(y_test, y_pred))\n",
    "print(\"Precision:\", precision_score(y_test, y_pred))\n",
    "print(\"Recall:\", recall_score(y_test, y_pred))\n",
    "print(\"F1 score:\", f1_score(y_test, y_pred))\n",
    "\n",
    "y_pred_bayes = y_pred"
   ]
  },
  {
   "cell_type": "markdown",
   "metadata": {},
   "source": [
    "# L9 SVM and Kernels"
   ]
  },
  {
   "cell_type": "markdown",
   "metadata": {},
   "source": [
    "## 1. Support Vector Classification"
   ]
  },
  {
   "cell_type": "markdown",
   "metadata": {},
   "source": [
    "### Linear SVM"
   ]
  },
  {
   "cell_type": "markdown",
   "metadata": {},
   "source": [
    "When C=1.0 as default:"
   ]
  },
  {
   "cell_type": "code",
   "execution_count": 14,
   "metadata": {},
   "outputs": [
    {
     "name": "stdout",
     "output_type": "stream",
     "text": [
      "Predicted: [0. 0. 0. ... 0. 0. 0.]\n",
      "Accuracy: 0.8360710693932283\n",
      "Precision: 0.7077922077922078\n",
      "Recall: 0.5852348993288591\n",
      "F1 score: 0.6407053637031594\n"
     ]
    }
   ],
   "source": [
    "from sklearn.svm import LinearSVC\n",
    "\n",
    "clf = LinearSVC()\n",
    "clf.fit(X_train, y_train)\n",
    "y_pred = clf.predict(X_test)\n",
    "print(\"Predicted:\", y_pred)\n",
    "print(\"Accuracy:\", metrics.accuracy_score(y_test, y_pred))\n",
    "print(\"Precision:\", precision_score(y_test, y_pred))\n",
    "print(\"Recall:\", recall_score(y_test, y_pred))\n",
    "print(\"F1 score:\", f1_score(y_test, y_pred))\n",
    "\n",
    "y_pred_svm_1 = y_pred"
   ]
  },
  {
   "cell_type": "markdown",
   "metadata": {},
   "source": [
    "When C=0.1, allowing more errors:"
   ]
  },
  {
   "cell_type": "code",
   "execution_count": 15,
   "metadata": {},
   "outputs": [
    {
     "name": "stdout",
     "output_type": "stream",
     "text": [
      "Predicted: [0. 0. 0. ... 0. 0. 0.]\n",
      "Accuracy: 0.8343949044585988\n",
      "Precision: 0.7047308319738989\n",
      "Recall: 0.5798657718120805\n",
      "F1 score: 0.6362297496318114\n"
     ]
    }
   ],
   "source": [
    "clf = LinearSVC(C=0.1)\n",
    "clf.fit(X_train, y_train)\n",
    "y_pred = clf.predict(X_test)\n",
    "print(\"Predicted:\", y_pred)\n",
    "print(\"Accuracy:\", metrics.accuracy_score(y_test, y_pred))\n",
    "print(\"Precision:\", precision_score(y_test, y_pred))\n",
    "print(\"Recall:\", recall_score(y_test, y_pred))\n",
    "print(\"F1 score:\", f1_score(y_test, y_pred))\n",
    "\n",
    "y_pred_svm_01 = y_pred"
   ]
  },
  {
   "cell_type": "markdown",
   "metadata": {},
   "source": [
    "When C=0.01, allowing many errors:"
   ]
  },
  {
   "cell_type": "code",
   "execution_count": 16,
   "metadata": {},
   "outputs": [
    {
     "name": "stdout",
     "output_type": "stream",
     "text": [
      "Predicted: [0. 0. 0. ... 0. 0. 0.]\n",
      "Accuracy: 0.8327187395239691\n",
      "Precision: 0.705685618729097\n",
      "Recall: 0.5664429530201343\n",
      "F1 score: 0.6284437825763217\n"
     ]
    }
   ],
   "source": [
    "clf = LinearSVC(C=0.01)\n",
    "clf.fit(X_train, y_train)\n",
    "y_pred = clf.predict(X_test)\n",
    "print(\"Predicted:\", y_pred)\n",
    "print(\"Accuracy:\", metrics.accuracy_score(y_test, y_pred))\n",
    "print(\"Precision:\", precision_score(y_test, y_pred))\n",
    "print(\"Recall:\", recall_score(y_test, y_pred))\n",
    "print(\"F1 score:\", f1_score(y_test, y_pred))\n",
    "\n",
    "y_pred_svm_001 = y_pred"
   ]
  },
  {
   "cell_type": "markdown",
   "metadata": {},
   "source": [
    "### Kernel SVM"
   ]
  },
  {
   "cell_type": "markdown",
   "metadata": {},
   "source": [
    "When kernel='rbf' (Radius Basis Function: Gaussian):"
   ]
  },
  {
   "cell_type": "code",
   "execution_count": 17,
   "metadata": {},
   "outputs": [
    {
     "name": "stdout",
     "output_type": "stream",
     "text": [
      "Predicted: [0. 0. 0. ... 0. 0. 0.]\n",
      "Accuracy: 0.8350653704324505\n",
      "Precision: 0.707037643207856\n",
      "Recall: 0.5798657718120805\n",
      "F1 score: 0.6371681415929203\n"
     ]
    }
   ],
   "source": [
    "from sklearn.svm import SVC\n",
    "\n",
    "clf = SVC()\n",
    "clf.fit(X_train, y_train)\n",
    "y_pred = clf.predict(X_test)\n",
    "print(\"Predicted:\", y_pred)\n",
    "print(\"Accuracy:\", metrics.accuracy_score(y_test, y_pred))\n",
    "print(\"Precision:\", precision_score(y_test, y_pred))\n",
    "print(\"Recall:\", recall_score(y_test, y_pred))\n",
    "print(\"F1 score:\", f1_score(y_test, y_pred))\n",
    "\n",
    "y_pred_kernel_rbf = y_pred"
   ]
  },
  {
   "cell_type": "markdown",
   "metadata": {},
   "source": [
    "When kernel is Quadratic kernel (\"Degree-2 polynomial kernel\"):"
   ]
  },
  {
   "cell_type": "code",
   "execution_count": 18,
   "metadata": {},
   "outputs": [
    {
     "name": "stdout",
     "output_type": "stream",
     "text": [
      "Predicted: [0. 0. 0. ... 0. 0. 0.]\n",
      "Accuracy: 0.8340596714716728\n",
      "Precision: 0.7035830618892508\n",
      "Recall: 0.5798657718120805\n",
      "F1 score: 0.6357615894039734\n"
     ]
    }
   ],
   "source": [
    "clf = SVC(kernel='poly', degree=2)\n",
    "clf.fit(X_train, y_train)\n",
    "y_pred = clf.predict(X_test)\n",
    "print(\"Predicted:\", y_pred)\n",
    "print(\"Accuracy:\", metrics.accuracy_score(y_test, y_pred))\n",
    "print(\"Precision:\", precision_score(y_test, y_pred))\n",
    "print(\"Recall:\", recall_score(y_test, y_pred))\n",
    "print(\"F1 score:\", f1_score(y_test, y_pred))\n",
    "\n",
    "y_pred_kernel_quad = y_pred"
   ]
  },
  {
   "cell_type": "markdown",
   "metadata": {},
   "source": [
    "## ROC curve"
   ]
  },
  {
   "cell_type": "code",
   "execution_count": 22,
   "metadata": {},
   "outputs": [],
   "source": [
    "from itertools import cycle\n",
    "\n",
    "n_methods = 5\n",
    "methods = [\"KNN-20\", \"CART\", \"ID3\", \"Naive Bayes\", \"Linear SVM\", \"Kernel SVM (Quadradic)\"]\n",
    "colors = cycle(['red', 'navy', 'turquoise', 'darkorange', 'cornflowerblue', 'teal'])"
   ]
  },
  {
   "cell_type": "code",
   "execution_count": 23,
   "metadata": {},
   "outputs": [],
   "source": [
    "from sklearn.metrics import roc_curve\n",
    "\n",
    "fpr = dict()\n",
    "tpr = dict()\n",
    "\n",
    "fpr[0], tpr[0], _ = roc_curve(y_test, y_pred_knn_20)\n",
    "fpr[1], tpr[1], _ = roc_curve(y_test, y_pred_cart)\n",
    "fpr[2], tpr[2], _ = roc_curve(y_test, y_pred_id3)\n",
    "fpr[3], tpr[3], _ = roc_curve(y_test, y_pred_bayes)\n",
    "fpr[4], tpr[4], _ = roc_curve(y_test, y_pred_svm_1)\n",
    "fpr[5], tpr[5], _ = roc_curve(y_test, y_pred_kernel_quad)"
   ]
  },
  {
   "cell_type": "code",
   "execution_count": 24,
   "metadata": {},
   "outputs": [
    {
     "data": {
      "image/png": "[encoded data removed]",
      "text/plain": [
       "<Figure size 504x576 with 1 Axes>"
      ]
     },
     "metadata": {
      "needs_background": "light"
     },
     "output_type": "display_data"
    }
   ],
   "source": [
    "import numpy as np\n",
    "import matplotlib.pyplot as plt\n",
    "from sklearn.metrics import auc\n",
    "\n",
    "plt.figure(figsize=(7, 8))\n",
    "lines = []\n",
    "labels = []\n",
    "\n",
    "for i, color in zip(range(n_methods), colors):\n",
    "    l, = plt.plot(fpr[i], tpr[i], color=color, lw=2)\n",
    "    lines.append(l)\n",
    "    labels.append('{0} (AUC = {1:0.2f})'.format(methods[i], auc(fpr[i], tpr[i])))\n",
    "\n",
    "fig = plt.gcf()\n",
    "fig.subplots_adjust(bottom=0.25)\n",
    "plt.xlim([0.0, 1.0])\n",
    "plt.ylim([0.0, 1.05])\n",
    "plt.xlabel('False Positive Rate (FPR)')\n",
    "plt.ylabel('True Positive Rate (TPR)')\n",
    "plt.title('ROC curves')\n",
    "plt.legend(lines, labels, loc=(.35, .1), prop=dict(size=14))\n",
    "\n",
    "plt.show()"
   ]
  },
  {
   "cell_type": "markdown",
   "metadata": {},
   "source": [
    "## 3. Precision-Recall curve"
   ]
  },
  {
   "cell_type": "code",
   "execution_count": 25,
   "metadata": {},
   "outputs": [],
   "source": [
    "from sklearn.metrics import precision_recall_curve\n",
    "\n",
    "precision = dict()\n",
    "recall = dict()\n",
    "\n",
    "precision[0], recall[0], _ = precision_recall_curve(y_test, y_pred_knn_20)\n",
    "precision[1], recall[1], _ = precision_recall_curve(y_test, y_pred_cart)\n",
    "precision[2], recall[2], _ = precision_recall_curve(y_test, y_pred_id3)\n",
    "precision[3], recall[3], _ = precision_recall_curve(y_test, y_pred_bayes)\n",
    "precision[4], recall[4], _ = precision_recall_curve(y_test, y_pred_svm_1)\n",
    "precision[5], recall[5], _ = precision_recall_curve(y_test, y_pred_kernel_quad)"
   ]
  },
  {
   "cell_type": "code",
   "execution_count": 26,
   "metadata": {},
   "outputs": [
    {
     "data": {
      "image/png": "[encoded data removed]",
      "text/plain": [
       "<Figure size 504x576 with 1 Axes>"
      ]
     },
     "metadata": {
      "needs_background": "light"
     },
     "output_type": "display_data"
    }
   ],
   "source": [
    "plt.figure(figsize=(7, 8))\n",
    "lines = []\n",
    "labels = []\n",
    "\n",
    "f_scores = np.linspace(0.2, 0.8, num=4)\n",
    "for f_score in f_scores:\n",
    "    x = np.linspace(0.01, 1)\n",
    "    y = f_score * x / (2 * x - f_score)\n",
    "    l, = plt.plot(x[y >= 0], y[y >= 0], color='gray', alpha=0.2)\n",
    "    plt.annotate('f1={0:0.1f}'.format(f_score), xy=(0.9, y[45] + 0.02))\n",
    "lines.append(l)\n",
    "labels.append('iso-f1 curves')\n",
    "\n",
    "for i, color in zip(range(n_methods), colors):\n",
    "    l, = plt.plot(recall[i], precision[i], color=color, lw=2)\n",
    "    lines.append(l)\n",
    "    labels.append(methods[i])\n",
    "\n",
    "fig = plt.gcf()\n",
    "fig.subplots_adjust(bottom=0.25)\n",
    "plt.xlim([0.0, 1.0])\n",
    "plt.ylim([0.0, 1.05])\n",
    "plt.xlabel('Recall')\n",
    "plt.ylabel('Precision')\n",
    "plt.title('Precision-Recall curves')\n",
    "plt.legend(lines, labels, loc=(.5, .2), prop=dict(size=14))\n",
    "\n",
    "plt.show()"
   ]
  }
 ],
 "metadata": {
  "kernelspec": {
   "display_name": "Python 3",
   "language": "python",
   "name": "python3"
  },
  "language_info": {
   "codemirror_mode": {
    "name": "ipython",
    "version": 3
   },
   "file_extension": ".py",
   "mimetype": "text/x-python",
   "name": "python",
   "nbconvert_exporter": "python",
   "pygments_lexer": "ipython3",
   "version": "3.8.5"
  }
 },
 "nbformat": 4,
 "nbformat_minor": 4
}